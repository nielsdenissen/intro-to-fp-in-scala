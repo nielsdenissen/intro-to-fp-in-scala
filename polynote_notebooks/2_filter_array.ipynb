{
  "metadata" : {
    "config" : {
      "dependencies" : {
        
      },
      "exclusions" : [
      ],
      "repositories" : [
      ],
      "sparkConfig" : {
        
      }
    }
  },
  "nbformat" : 4,
  "nbformat_minor" : 0,
  "cells" : [
    {
      "cell_type" : "markdown",
      "execution_count" : 0,
      "metadata" : {
        "language" : "text"
      },
      "language" : "text",
      "source" : [
        "# 2 Filter an Array\n",
        "\n",
        "\n",
        "In this exercise we'll filter an array based on 2 values, a minimum and a maximum. Only return those elements where min <= x <= max.\n",
        "\n",
        "You can use the function definition provided below. In the cell below that an example is given to test your function with. After writing your function, execute the cell with your function and then with the example to execute it.\n",
        "\n",
        "\n"
      ],
      "outputs" : [
      ]
    },
    {
      "cell_type" : "code",
      "execution_count" : 1,
      "metadata" : {
        "cell.metadata.exec_info" : {
          "startTs" : 1621350533735,
          "endTs" : 1621350533782
        },
        "language" : "scala"
      },
      "language" : "scala",
      "source" : [
        "def filter_array(arr: List[Int], minimum: Int, maximum: Int): List[Int] = {\r\n",
        "    \r\n",
        "}"
      ],
      "outputs" : [
      ]
    },
    {
      "cell_type" : "code",
      "execution_count" : 2,
      "metadata" : {
        "cell.metadata.exec_info" : {
          "startTs" : 1621350535524,
          "endTs" : 1621350535751
        },
        "language" : "scala"
      },
      "language" : "scala",
      "source" : [
        "println(filter_array(\r\n",
        "    arr=List(1,2,3,4,5),\r\n",
        "    minimum=2,\r\n",
        "    maximum=4\r\n",
        "    ))"
      ],
      "outputs" : [
      ]
    }
  ]
}