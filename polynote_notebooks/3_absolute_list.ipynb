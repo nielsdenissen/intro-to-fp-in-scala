{
  "metadata" : {
    "config" : {
      "dependencies" : {
        
      },
      "exclusions" : [
      ],
      "repositories" : [
      ],
      "sparkConfig" : {
        
      }
    }
  },
  "nbformat" : 4,
  "nbformat_minor" : 0,
  "cells" : [
    {
      "cell_type" : "markdown",
      "execution_count" : 0,
      "metadata" : {
        "language" : "text"
      },
      "language" : "text",
      "source" : [
        "# 3 Absolute List\n",
        "\n",
        "\n",
        "Write a function that given a list of integers, returns the list with the absolute value of the integers.\n",
        "\n",
        "**Example**\n",
        "\n",
        "In: -1, 2, 9, -22, -100\n",
        "\n",
        "Out: 1, 2, 9, 22, 100\n",
        "\n",
        "\n"
      ],
      "outputs" : [
      ]
    },
    {
      "cell_type" : "code",
      "execution_count" : 1,
      "metadata" : {
        "cell.metadata.exec_info" : {
          "startTs" : 1621350894864,
          "endTs" : 1621350895156
        },
        "language" : "scala"
      },
      "language" : "scala",
      "source" : [
        "def absolute_list(arr: List[Int]): List[Int] = {\r\n",
        "    \r\n",
        "}"
      ],
      "outputs" : [
      ]
    },
    {
      "cell_type" : "code",
      "execution_count" : 2,
      "metadata" : {
        "cell.metadata.exec_info" : {
          "startTs" : 1621350896469,
          "endTs" : 1621350896761
        },
        "language" : "scala"
      },
      "language" : "scala",
      "source" : [
        "println(absolute_list(List(-1, 2, 9, -22, -100)))"
      ],
      "outputs" : [
      ]
    }
  ]
}