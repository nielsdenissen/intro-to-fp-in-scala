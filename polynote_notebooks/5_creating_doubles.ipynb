{
  "metadata" : {
    "config" : {
      "dependencies" : {
        
      },
      "exclusions" : [
      ],
      "repositories" : [
      ],
      "sparkConfig" : {
        
      }
    }
  },
  "nbformat" : 4,
  "nbformat_minor" : 0,
  "cells" : [
    {
      "cell_type" : "markdown",
      "execution_count" : 0,
      "metadata" : {
        "language" : "text"
      },
      "language" : "text",
      "source" : [
        "# 5 Creating Doubles\n",
        "\n",
        "\n",
        "In this exercise we're going to process a 2 strings on input (e.g. \"1\", \"2\") and try to transform them to a single double by taking the first input before the comma and the second behind (e.g. 1.2).\n",
        "\n",
        "\n",
        "Depending on whether the strings are valid integers, we'll return something else:\n",
        "\n",
        "\n",
        "1. \n",
        "   Both are valid integers: return a double following the rules above (e.g. \"1\", \"2\" -> 1.2)\n",
        "   \n",
        "   \n",
        "   \n",
        "2. \n",
        "   One of them is a valid integer: return only the valid integer\n",
        "   \n",
        "   \n",
        "   \n",
        "3. \n",
        "   None of them are valid integers: return None (this represents an empty Option)\n",
        "   \n",
        "   \n",
        "   \n",
        "\n",
        "\n",
        "**Example**\n",
        "\n",
        "\n",
        "\"1\", \"2\" -> 1.2<br>\n",
        "\n",
        "\n",
        "\"1\",\"bla\" -> 1\n",
        "\n",
        "\n",
        "\"bla\",\"2\" -> 2\n",
        "\n",
        "\n",
        "\"bla\",\"bla\" -> None\n",
        "\n",
        "\n"
      ],
      "outputs" : [
      ]
    },
    {
      "cell_type" : "code",
      "execution_count" : 1,
      "metadata" : {
        "cell.metadata.exec_info" : {
          "startTs" : 1621353930734,
          "endTs" : 1621353930851
        },
        "language" : "scala"
      },
      "language" : "scala",
      "source" : [
        "def small_pipeline(in1: String, in2: String): Option[Either[Double, Int]] = {\r\n",
        "    \r\n",
        "}"
      ],
      "outputs" : [
      ]
    },
    {
      "cell_type" : "code",
      "execution_count" : 2,
      "metadata" : {
        "cell.metadata.exec_info" : {
          "startTs" : 1621353965134,
          "endTs" : 1621353965168
        },
        "language" : "scala"
      },
      "language" : "scala",
      "source" : [
        "println(small_pipeline(\"1\", \"2\"))\r\n",
        "println(small_pipeline(\"1\", \"bla\"))\r\n",
        "println(small_pipeline(\"bla\", \"2\"))\r\n",
        "println(small_pipeline(\"bla\", \"bla\"))"
      ],
      "outputs" : [
      ]
    }
  ]
}