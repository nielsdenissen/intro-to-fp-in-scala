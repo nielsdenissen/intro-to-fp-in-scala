{
  "metadata" : {
    "config" : {
      "dependencies" : {
        
      },
      "exclusions" : [
      ],
      "repositories" : [
      ],
      "sparkConfig" : {
        
      }
    }
  },
  "nbformat" : 4,
  "nbformat_minor" : 0,
  "cells" : [
    {
      "cell_type" : "markdown",
      "execution_count" : 0,
      "metadata" : {
        "language" : "text"
      },
      "language" : "text",
      "source" : [
        "# 4 Operations in String\n",
        "\n",
        "\n",
        "In this exercise, we'll create a function that is able to take on input an integer and an operation that should be executed on that integer.\n",
        "\n",
        "The operations we'd like to support are: \"double\", \"triple\", \"negate\"\n",
        "\n",
        "**Example**\n",
        "\n",
        "Input: 4, \"double\", Output: 6\n",
        "\n",
        "Input: 4, \"triple\", Output: 12\n",
        "\n",
        "Input: 4, \"negate\", Output: -4\n",
        "\n"
      ],
      "outputs" : [
      ]
    },
    {
      "cell_type" : "code",
      "execution_count" : 1,
      "metadata" : {
        "cell.metadata.exec_info" : {
          "startTs" : 1621351589966,
          "endTs" : 1621351590134
        },
        "language" : "scala"
      },
      "language" : "scala",
      "source" : [
        "def operation_in_string(input: Int, operation: String): Int = {\r\n",
        "    \r\n",
        "}"
      ],
      "outputs" : [
      ]
    },
    {
      "cell_type" : "code",
      "execution_count" : 2,
      "metadata" : {
        "cell.metadata.exec_info" : {
          "startTs" : 1621351879801,
          "endTs" : 1621351880003
        },
        "language" : "scala"
      },
      "language" : "scala",
      "source" : [
        "println(operation_in_string(4, \"double\")) \r\n",
        "println(operation_in_string(4, \"triple\")) \r\n",
        "println(operation_in_string(4, \"negate\"))"
      ],
      "outputs" : [
      ]
    },
    {
      "cell_type" : "markdown",
      "execution_count" : 4,
      "metadata" : {
        "language" : "text"
      },
      "language" : "text",
      "source" : [
        "When we give some invalid output, we'd like to print a friendly message saying we don't support this."
      ],
      "outputs" : [
      ]
    },
    {
      "cell_type" : "code",
      "execution_count" : 3,
      "metadata" : {
        "cell.metadata.exec_info" : {
          "startTs" : 1621351597739,
          "endTs" : 1621351597859
        },
        "language" : "scala"
      },
      "language" : "scala",
      "source" : [
        "println(operation_in_string(4, \"levitate\"))"
      ],
      "outputs" : [
      ]
    }
  ]
}